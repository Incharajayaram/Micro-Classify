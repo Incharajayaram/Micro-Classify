{
 "cells": [
  {
   "cell_type": "code",
   "execution_count": 84,
   "metadata": {},
   "outputs": [],
   "source": [
    "import os\n",
    "import cv2\n",
    "import numpy as np\n",
    "import matplotlib.pyplot as plt\n",
    "from sklearn.model_selection import train_test_split\n",
    "from sklearn.preprocessing import LabelEncoder\n",
    "import tensorflow as tf\n",
    "from tensorflow.keras.utils import to_categorical\n",
    "from tensorflow.keras.models import Sequential\n",
    "from tensorflow.keras.layers import Conv2D, BatchNormalization, ReLU, MaxPooling2D, Flatten, Dense, Dropout\n",
    "from tensorflow.keras.optimizers import Adam"
   ]
  },
  {
   "cell_type": "code",
   "execution_count": 78,
   "metadata": {},
   "outputs": [
    {
     "name": "stdout",
     "output_type": "stream",
     "text": [
      "Loading images from: D:\\micro-doppler based target classification\\Micro-Doppler-Based-Target-Classification-\\data\\DIAT-uSAT_dataset\\3_long_blade_rotor/3_long_blades_rotor\n",
      "Loading images from: D:\\micro-doppler based target classification\\Micro-Doppler-Based-Target-Classification-\\data\\DIAT-uSAT_dataset\\3_short_blade_rotor_1/3_short_blade_rotor_1\n",
      "Loading images from: D:\\micro-doppler based target classification\\Micro-Doppler-Based-Target-Classification-\\data\\DIAT-uSAT_dataset\\Bird/Bird\n",
      "Loading images from: D:\\micro-doppler based target classification\\Micro-Doppler-Based-Target-Classification-\\data\\DIAT-uSAT_dataset\\Bird+mini-helicopter_1/Bird+2_Blade_rotor_1\n",
      "Loading images from: D:\\micro-doppler based target classification\\Micro-Doppler-Based-Target-Classification-\\data\\DIAT-uSAT_dataset\\drone_1/drone_1\n",
      "Loading images from: D:\\micro-doppler based target classification\\Micro-Doppler-Based-Target-Classification-\\data\\DIAT-uSAT_dataset\\drone_2/drone_2\n",
      "Loading images from: D:\\micro-doppler based target classification\\Micro-Doppler-Based-Target-Classification-\\data\\DIAT-uSAT_dataset\\RC plane_1/2_blade_rotor_1\n",
      "Loading images from: D:\\micro-doppler based target classification\\Micro-Doppler-Based-Target-Classification-\\data\\DIAT-uSAT_dataset\\RC plane_2/2_blade_rotor_2\n"
     ]
    }
   ],
   "source": [
    "import os\n",
    "from PIL import Image\n",
    "import matplotlib.pyplot as plt\n",
    "import cv2\n",
    "\n",
    "# Define the directory where the images are stored\n",
    "def load_images_from_folder(base_dir, subfolders):\n",
    "# Iterate over all subfolders and load images\n",
    "    images = []\n",
    "    labels = []\n",
    "    for subfolder in subfolders:\n",
    "        folder_path = os.path.join(base_dir, subfolder)\n",
    "        print(f\"Loading images from: {folder_path}\")\n",
    "        label = subfolder\n",
    "    \n",
    "        for filename in os.listdir(folder_path):\n",
    "            if filename.lower().endswith(('.png', '.jpg', '.jpeg')):\n",
    "                img_path = os.path.join(folder_path, filename)\n",
    "                img = cv2.imread(os.path.join(img_path, filename), cv2.IMREAD_GRAYSCALE)\n",
    "                try:\n",
    "                    images.append(img)\n",
    "                    labels.append(label)\n",
    "\n",
    "                except Exception as e:\n",
    "                    print(f\"Error loading image {filename}: {e}\")\n",
    "    return images, labels\n",
    "\n",
    "X, y = load_images_from_folder(\n",
    "base_dir = 'D:\\micro-doppler based target classification\\Micro-Doppler-Based-Target-Classification-\\data\\DIAT-uSAT_dataset',\n",
    "\n",
    "# List of all subfolders\n",
    "subfolders = ['3_long_blade_rotor/3_long_blades_rotor', '3_short_blade_rotor_1/3_short_blade_rotor_1', 'Bird/Bird', \n",
    "              'Bird+mini-helicopter_1/Bird+2_Blade_rotor_1', 'drone_1/drone_1', 'drone_2/drone_2', 'RC plane_1/2_blade_rotor_1', 'RC plane_2/2_blade_rotor_2'])"
   ]
  },
  {
   "cell_type": "code",
   "execution_count": 86,
   "metadata": {},
   "outputs": [],
   "source": [
    "X = np.array(X)\n",
    "y = np.array(y)"
   ]
  },
  {
   "cell_type": "code",
   "execution_count": 87,
   "metadata": {},
   "outputs": [
    {
     "name": "stdout",
     "output_type": "stream",
     "text": [
      "Training set size: (2591,), Training labels size: (2591,)\n",
      "Validation set size: (648,), Validation labels size: (648,)\n",
      "Testing set size: (810,), Testing labels size: (810,)\n"
     ]
    }
   ],
   "source": [
    "X_train, X_test, y_train, y_test = train_test_split(X, y, test_size=0.2, random_state=42)\n",
    "\n",
    "X_train, X_val, y_train, y_val = train_test_split(X_train, y_train, test_size=0.2, random_state=42)\n",
    "\n",
    "#size of dataset\n",
    "print(f\"Training set size: {X_train.shape}, Training labels size: {y_train.shape}\")\n",
    "print(f\"Validation set size: {X_val.shape}, Validation labels size: {y_val.shape}\")\n",
    "print(f\"Testing set size: {X_test.shape}, Testing labels size: {y_test.shape}\")"
   ]
  },
  {
   "cell_type": "code",
   "execution_count": 88,
   "metadata": {},
   "outputs": [],
   "source": [
    "label_encoder = LabelEncoder()\n",
    "y_train_encoded = label_encoder.fit_transform(y_train)\n",
    "y_test_encoded = label_encoder.transform(y_test)\n",
    "y_val_encoded = label_encoder.transform(y_val)"
   ]
  },
  {
   "cell_type": "code",
   "execution_count": 89,
   "metadata": {},
   "outputs": [],
   "source": [
    "num_classes = len(np.unique(y))\n",
    "y_train_cat = to_categorical(y_train_encoded, num_classes)\n",
    "y_test_cat = to_categorical(y_test_encoded, num_classes)\n",
    "y_val_cat = to_categorical(y_val_encoded, num_classes)"
   ]
  },
  {
   "cell_type": "code",
   "execution_count": null,
   "metadata": {},
   "outputs": [],
   "source": []
  }
 ],
 "metadata": {
  "kernelspec": {
   "display_name": "Python 3",
   "language": "python",
   "name": "python3"
  },
  "language_info": {
   "codemirror_mode": {
    "name": "ipython",
    "version": 3
   },
   "file_extension": ".py",
   "mimetype": "text/x-python",
   "name": "python",
   "nbconvert_exporter": "python",
   "pygments_lexer": "ipython3",
   "version": "3.10.0"
  }
 },
 "nbformat": 4,
 "nbformat_minor": 2
}

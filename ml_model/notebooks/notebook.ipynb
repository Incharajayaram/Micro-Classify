{
 "cells": [
  {
   "cell_type": "code",
   "execution_count": 2,
   "metadata": {},
   "outputs": [],
   "source": [
    "import os\n",
    "import cv2\n",
    "import numpy as np\n",
    "import matplotlib.pyplot as plt\n",
    "from sklearn.model_selection import train_test_split\n",
    "from sklearn.preprocessing import LabelEncoder\n",
    "from tensorflow.keras.utils import to_categorical\n",
    "from tensorflow.keras.models import Sequential\n",
    "from tensorflow.keras.layers import Conv2D, BatchNormalization, ReLU, MaxPooling2D, Flatten, Dense, Dropout\n",
    "from tensorflow.keras.optimizers import Adam"
   ]
  },
  {
   "cell_type": "code",
   "execution_count": 6,
   "metadata": {},
   "outputs": [
    {
     "name": "stdout",
     "output_type": "stream",
     "text": [
      "Loading images from: D:\\micro-doppler based target classification\\Micro-Doppler-Based-Target-Classification-\\data\\DIAT-uSAT_dataset\\3_long_blade_rotor/3_long_blades_rotor\n",
      "Loading images from: D:\\micro-doppler based target classification\\Micro-Doppler-Based-Target-Classification-\\data\\DIAT-uSAT_dataset\\3_short_blade_rotor_1/3_short_blade_rotor_1\n",
      "Loading images from: D:\\micro-doppler based target classification\\Micro-Doppler-Based-Target-Classification-\\data\\DIAT-uSAT_dataset\\3_short_blade_rotor_2/3_short_blade_rotor_2\n",
      "Loading images from: D:\\micro-doppler based target classification\\Micro-Doppler-Based-Target-Classification-\\data\\DIAT-uSAT_dataset\\Bird/Bird\n",
      "Loading images from: D:\\micro-doppler based target classification\\Micro-Doppler-Based-Target-Classification-\\data\\DIAT-uSAT_dataset\\Bird+mini-helicopter_1/Bird+2_Blade_rotor_1\n",
      "Loading images from: D:\\micro-doppler based target classification\\Micro-Doppler-Based-Target-Classification-\\data\\DIAT-uSAT_dataset\\Bird+mini-helicopter_2/Bird+2_Blade_rotor_2\n",
      "Loading images from: D:\\micro-doppler based target classification\\Micro-Doppler-Based-Target-Classification-\\data\\DIAT-uSAT_dataset\\drone_1/drone_1\n",
      "Loading images from: D:\\micro-doppler based target classification\\Micro-Doppler-Based-Target-Classification-\\data\\DIAT-uSAT_dataset\\drone_2/drone_2\n",
      "Loading images from: D:\\micro-doppler based target classification\\Micro-Doppler-Based-Target-Classification-\\data\\DIAT-uSAT_dataset\\RC plane_1/2_blade_rotor_1\n",
      "Loading images from: D:\\micro-doppler based target classification\\Micro-Doppler-Based-Target-Classification-\\data\\DIAT-uSAT_dataset\\RC plane_2/2_blade_rotor_2\n"
     ]
    }
   ],
   "source": [
    "import os\n",
    "from PIL import Image\n",
    "import matplotlib.pyplot as plt\n",
    "import cv2\n",
    "\n",
    "# Define the directory where the images are stored\n",
    "def load_images_from_folder(base_dir, subfolders):\n",
    "# Iterate over all subfolders and load images\n",
    "    images = []\n",
    "    labels = []\n",
    "    for subfolder in subfolders:\n",
    "        folder_path = os.path.join(base_dir, subfolder)\n",
    "        print(f\"Loading images from: {folder_path}\")\n",
    "        label = subfolder\n",
    "    \n",
    "        for filename in os.listdir(folder_path):\n",
    "            if filename.lower().endswith(('.png', '.jpg', '.jpeg')):\n",
    "                img_path = os.path.join(folder_path, filename)\n",
    "                img = cv2.imread(os.path.join(img_path, filename), cv2.IMREAD_GRAYSCALE)\n",
    "                try:\n",
    "                    images.append(img)\n",
    "                    labels.append(label)\n",
    "                    \n",
    "                except Exception as e:\n",
    "                    print(f\"Error loading image {filename}: {e}\")\n",
    "    return images, labels\n",
    "\n",
    "X, y = load_images_from_folder(\n",
    "base_dir = 'D:\\micro-doppler based target classification\\Micro-Doppler-Based-Target-Classification-\\data\\DIAT-uSAT_dataset',\n",
    "\n",
    "# List of all subfolders\n",
    "subfolders = ['3_long_blade_rotor/3_long_blades_rotor', '3_short_blade_rotor_1/3_short_blade_rotor_1','3_short_blade_rotor_2/3_short_blade_rotor_2', 'Bird/Bird', \n",
    "              'Bird+mini-helicopter_1/Bird+2_Blade_rotor_1','Bird+mini-helicopter_2/Bird+2_Blade_rotor_2', 'drone_1/drone_1', 'drone_2/drone_2', 'RC plane_1/2_blade_rotor_1', 'RC plane_2/2_blade_rotor_2'])"
   ]
  },
  {
   "cell_type": "code",
   "execution_count": 7,
   "metadata": {},
   "outputs": [],
   "source": [
    "X = np.array(X)\n",
    "y = np.array(y)"
   ]
  },
  {
   "cell_type": "code",
   "execution_count": 8,
   "metadata": {},
   "outputs": [
    {
     "name": "stdout",
     "output_type": "stream",
     "text": [
      "Total number of images: 4849\n",
      "Unique classes: ['3_long_blade_rotor/3_long_blades_rotor'\n",
      " '3_short_blade_rotor_1/3_short_blade_rotor_1'\n",
      " '3_short_blade_rotor_2/3_short_blade_rotor_2'\n",
      " 'Bird+mini-helicopter_1/Bird+2_Blade_rotor_1'\n",
      " 'Bird+mini-helicopter_2/Bird+2_Blade_rotor_2' 'Bird/Bird'\n",
      " 'RC plane_1/2_blade_rotor_1' 'RC plane_2/2_blade_rotor_2'\n",
      " 'drone_1/drone_1' 'drone_2/drone_2']\n"
     ]
    }
   ],
   "source": [
    "print(f\"Total number of images: {len(X)}\")\n",
    "print(f\"Unique classes: {np.unique(y)}\")"
   ]
  }
 ],
 "metadata": {
  "kernelspec": {
   "display_name": "Python 3 (ipykernel)",
   "language": "python",
   "name": "python3"
  },
  "language_info": {
   "codemirror_mode": {
    "name": "ipython",
    "version": 3
   },
   "file_extension": ".py",
   "mimetype": "text/x-python",
   "name": "python",
   "nbconvert_exporter": "python",
   "pygments_lexer": "ipython3",
   "version": "3.12.4"
  }
 },
 "nbformat": 4,
 "nbformat_minor": 4
}

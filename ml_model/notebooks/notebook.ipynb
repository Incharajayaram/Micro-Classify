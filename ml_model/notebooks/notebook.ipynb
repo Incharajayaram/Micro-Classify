{
 "cells": [
  {
   "cell_type": "code",
   "execution_count": 13,
   "metadata": {},
   "outputs": [
    {
     "ename": "ModuleNotFoundError",
     "evalue": "No module named 'cv2'",
     "output_type": "error",
     "traceback": [
      "\u001b[1;31m---------------------------------------------------------------------------\u001b[0m",
      "\u001b[1;31mModuleNotFoundError\u001b[0m                       Traceback (most recent call last)",
      "Cell \u001b[1;32mIn[13], line 2\u001b[0m\n\u001b[0;32m      1\u001b[0m \u001b[38;5;28;01mimport\u001b[39;00m \u001b[38;5;21;01mos\u001b[39;00m\n\u001b[1;32m----> 2\u001b[0m \u001b[38;5;28;01mimport\u001b[39;00m \u001b[38;5;21;01mcv2\u001b[39;00m\n\u001b[0;32m      3\u001b[0m \u001b[38;5;28;01mimport\u001b[39;00m \u001b[38;5;21;01mnumpy\u001b[39;00m \u001b[38;5;28;01mas\u001b[39;00m \u001b[38;5;21;01mnp\u001b[39;00m\n\u001b[0;32m      4\u001b[0m \u001b[38;5;28;01mimport\u001b[39;00m \u001b[38;5;21;01mmatplotlib\u001b[39;00m\u001b[38;5;21;01m.\u001b[39;00m\u001b[38;5;21;01mpyplot\u001b[39;00m \u001b[38;5;28;01mas\u001b[39;00m \u001b[38;5;21;01mplt\u001b[39;00m\n",
      "\u001b[1;31mModuleNotFoundError\u001b[0m: No module named 'cv2'"
     ]
    }
   ],
   "source": [
    "import os\n",
    "import cv2\n",
    "import numpy as np\n",
    "import matplotlib.pyplot as plt\n",
    "from sklearn.model_selection import train_test_split\n",
    "from sklearn.preprocessing import LabelEncoder\n",
    "import tensorflow as tf\n",
    "from tensorflow.keras.utils import to_categorical\n",
    "from tensorflow.keras.models import Sequential\n",
    "from tensorflow.keras.layers import Conv2D, BatchNormalization, ReLU, MaxPooling2D, Flatten, Dense, Dropout\n",
    "from tensorflow.keras.optimizers import Adam"
   ]
  },
  {
   "cell_type": "code",
   "execution_count": null,
   "metadata": {},
   "outputs": [],
   "source": [
    "import os\n",
    "from PIL import Image\n",
    "import matplotlib.pyplot as plt\n",
    "import cv2\n",
    "\n",
    "# Define the directory where the images are stored\n",
    "def load_images_from_folder(base_dir, subfolders):\n",
    "# Iterate over all subfolders and load images\n",
    "    images = []\n",
    "    labels = []\n",
    "    for subfolder in subfolders:\n",
    "        folder_path = os.path.join(base_dir, subfolder)\n",
    "        print(f\"Loading images from: {folder_path}\")\n",
    "        label = subfolder\n",
    "    \n",
    "        for filename in os.listdir(folder_path):\n",
    "            if filename.lower().endswith(('.png', '.jpg', '.jpeg')):\n",
    "                img_path = os.path.join(folder_path, filename)\n",
    "                img = Image.open(os.path.join(img_path, filename))\n",
    "                try:\n",
    "                    images.append(img)\n",
    "                    labels.append(label)\n",
    "                    print(f\"images loaded {filename}\")\n",
    "                except Exception as e:\n",
    "                    print(f\"Error loading image {filename}: {e}\")\n",
    "    return images, labels\n",
    "\n",
    "X, y = load_images_from_folder(\n",
    "#base_dir = r\"C:\\Users\\bejdi\\Desktop\\Micro-Doppler-Based-Target-Classification-\\data\\DIAT-uSAT_dataset\",\n",
    "\n",
    "# List of all subfolders\n",
    "subfolders = [r\"3_long_blade_rotor\\3_long_blades_rotor\", r\"3_short_blade_rotor_1\\3_short_blade_rotor_1\", r\"Bird\\Bird\", \n",
    "              r\"Bird+mini-helicopter_1\\Bird+2_Blade_rotor_1\", r\"drone_1\\drone_1\", r\"drone_2\\drone_2\", r\"RC plane_1\\2_blade_rotor_1\", r\"RC plane_2\\2_blade_rotor_2\"])"
   ]
  },
  {
   "cell_type": "code",
   "execution_count": null,
   "metadata": {},
   "outputs": [],
   "source": [
    "X = np.array(X)\n",
    "print(X)"
   ]
  },
  {
   "cell_type": "code",
   "execution_count": null,
   "metadata": {},
   "outputs": [],
   "source": [
    "def convert_to_numpy_and_resize(X, target_size=(224, 224)):\n",
    "    \"\"\"\n",
    "    Converts a list of images (PIL or other image objects) to a NumPy array \n",
    "    and resizes them to the target size.\n",
    "\n",
    "    Parameters:\n",
    "    X (list): A list containing loaded images.\n",
    "    target_size (tuple): The target size for resizing the images (width, height).\n",
    "\n",
    "    Returns:\n",
    "    np.ndarray: A NumPy array of resized images.\n",
    "    \"\"\"\n",
    "    resized_images = []\n",
    "    for img in X:\n",
    "        # If the image is not already a NumPy array, convert it\n",
    "        if not isinstance(img, np.ndarray):\n",
    "            img = np.array(img)\n",
    "        # Resize the image using TensorFlow (ensure the image has 3 channels)\n",
    "        img_resized = tf.image.resize(img, target_size)\n",
    "        img_resized = np.array(img_resized)  # Convert back to NumPy array if needed\n",
    "        resized_images.append(img_resized)\n",
    "    \n",
    "    return np.array(resized_images)\n",
    "\n",
    "X_resized = convert_to_numpy_and_resize(X)\n",
    "y = np.array(y)  # Ensure labels are also a NumPy array"
   ]
  },
  {
   "cell_type": "code",
   "execution_count": null,
   "metadata": {},
   "outputs": [],
   "source": [
    "X_train, X_test, y_train, y_test = train_test_split(X_resized, y, test_size=0.2, random_state=42)"
   ]
  },
  {
   "cell_type": "code",
   "execution_count": null,
   "metadata": {},
   "outputs": [],
   "source": [
    "X_train, X_val, y_train, y_val = train_test_split(X_train, y_train, test_size=0.2, random_state=42)\n",
    "\n",
    "#size of dataset\n",
    "print(f\"Training set size: {X_train.shape}, Training labels size: {y_train.shape}\")\n",
    "print(f\"Validation set size: {X_val.shape}, Validation labels size: {y_val.shape}\")\n",
    "print(f\"Testing set size: {X_test.shape}, Testing labels size: {y_test.shape}\")"
   ]
  },
  {
   "cell_type": "code",
   "execution_count": null,
   "metadata": {},
   "outputs": [],
   "source": [
    "label_encoder = LabelEncoder()\n",
    "y_train_encoded = label_encoder.fit_transform(y_train)\n",
    "y_test_encoded = label_encoder.transform(y_test)\n",
    "y_val_encoded = label_encoder.transform(y_val)"
   ]
  },
  {
   "cell_type": "code",
   "execution_count": null,
   "metadata": {},
   "outputs": [],
   "source": [
    "num_classes = len(np.unique(y))\n",
    "y_train_cat = to_categorical(y_train_encoded, num_classes)\n",
    "y_test_cat = to_categorical(y_test_encoded, num_classes)\n",
    "y_val_cat = to_categorical(y_val_encoded, num_classes)"
   ]
  },
  {
   "cell_type": "code",
   "execution_count": null,
   "metadata": {},
   "outputs": [],
   "source": []
  }
 ],
 "metadata": {
  "kernelspec": {
   "display_name": "Python 3 (ipykernel)",
   "language": "python",
   "name": "python3"
  },
  "language_info": {
   "codemirror_mode": {
    "name": "ipython",
    "version": 3
   },
   "file_extension": ".py",
   "mimetype": "text/x-python",
   "name": "python",
   "nbconvert_exporter": "python",
   "pygments_lexer": "ipython3",
   "version": "3.12.4"
  }
 },
 "nbformat": 4,
 "nbformat_minor": 4
}

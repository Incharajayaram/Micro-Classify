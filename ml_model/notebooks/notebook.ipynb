{
 "cells": [
  {
   "cell_type": "code",
<<<<<<< HEAD
   "execution_count": 13,
=======
   "execution_count": 2,
>>>>>>> origin/main
   "metadata": {},
   "outputs": [
    {
     "ename": "ModuleNotFoundError",
     "evalue": "No module named 'cv2'",
     "output_type": "error",
     "traceback": [
      "\u001b[1;31m---------------------------------------------------------------------------\u001b[0m",
      "\u001b[1;31mModuleNotFoundError\u001b[0m                       Traceback (most recent call last)",
      "Cell \u001b[1;32mIn[13], line 2\u001b[0m\n\u001b[0;32m      1\u001b[0m \u001b[38;5;28;01mimport\u001b[39;00m \u001b[38;5;21;01mos\u001b[39;00m\n\u001b[1;32m----> 2\u001b[0m \u001b[38;5;28;01mimport\u001b[39;00m \u001b[38;5;21;01mcv2\u001b[39;00m\n\u001b[0;32m      3\u001b[0m \u001b[38;5;28;01mimport\u001b[39;00m \u001b[38;5;21;01mnumpy\u001b[39;00m \u001b[38;5;28;01mas\u001b[39;00m \u001b[38;5;21;01mnp\u001b[39;00m\n\u001b[0;32m      4\u001b[0m \u001b[38;5;28;01mimport\u001b[39;00m \u001b[38;5;21;01mmatplotlib\u001b[39;00m\u001b[38;5;21;01m.\u001b[39;00m\u001b[38;5;21;01mpyplot\u001b[39;00m \u001b[38;5;28;01mas\u001b[39;00m \u001b[38;5;21;01mplt\u001b[39;00m\n",
      "\u001b[1;31mModuleNotFoundError\u001b[0m: No module named 'cv2'"
     ]
    }
   ],
   "source": [
    "import os\n",
    "import cv2\n",
    "import numpy as np\n",
    "import matplotlib.pyplot as plt\n",
    "from sklearn.model_selection import train_test_split\n",
    "from sklearn.preprocessing import LabelEncoder\n",
    "import tensorflow as tf\n",
    "from tensorflow.keras.utils import to_categorical\n",
    "from tensorflow.keras.models import Sequential\n",
    "from tensorflow.keras.layers import Conv2D, BatchNormalization, ReLU, MaxPooling2D, Flatten, Dense, Dropout\n",
    "from tensorflow.keras.optimizers import Adam"
   ]
  },
  {
   "cell_type": "code",
<<<<<<< HEAD
   "execution_count": null,
   "metadata": {},
   "outputs": [],
=======
   "execution_count": 14,
   "metadata": {},
   "outputs": [
    {
     "name": "stdout",
     "output_type": "stream",
     "text": [
      "Loading images from: DIAT-uSAT_dataset\\3_long_blade_rotor\\3_long_blades_rotor\n",
      "Loading images from: DIAT-uSAT_dataset\\3_short_blade_rotor_1\\3_short_blade_rotor_1\n",
      "Loading images from: DIAT-uSAT_dataset\\Bird\\Bird\n",
      "Loading images from: DIAT-uSAT_dataset\\Bird+mini-helicopter_1\\Bird+2_Blade_rotor_1\n",
      "Loading images from: DIAT-uSAT_dataset\\drone_1\\drone_1\n",
      "Loading images from: DIAT-uSAT_dataset\\drone_2\\drone_2\n",
      "Loading images from: DIAT-uSAT_dataset\\RC plane_1\\2_blade_rotor_1\n",
      "Loading images from: DIAT-uSAT_dataset\\RC plane_2\\2_blade_rotor_2\n",
      "Loaded 4049 images with shape (4049, 224, 224, 3).\n",
      "Loaded 4049 labels.\n"
     ]
    }
   ],
>>>>>>> origin/main
   "source": [
    "import numpy as np\n",
    "import tensorflow as tf\n",
    "\n",
    "def load_and_resize_images_in_batches(base_dir, subfolders, batch_size=100, target_size=(224, 224), output_file=None):\n",
    "    # Initialize lists or arrays to hold batches\n",
    "    resized_images = []\n",
    "    labels = []\n",
    "\n",
    "    for subfolder in subfolders:\n",
    "        folder_path = os.path.join(base_dir, subfolder)\n",
    "        print(f\"Loading images from: {folder_path}\")\n",
    "        label = subfolder\n",
    "\n",
    "        image_files = [os.path.join(folder_path, f) for f in os.listdir(folder_path) if f.lower().endswith(('.png', '.jpg', '.jpeg'))]\n",
    "\n",
    "        for i in range(0, len(image_files), batch_size):\n",
    "            batch_files = image_files[i:i+batch_size]\n",
    "            batch_images = []\n",
    "            batch_labels = []\n",
    "            \n",
    "            for img_path in batch_files:\n",
    "                try:\n",
    "                    # Read and decode the image\n",
    "                    img = tf.io.read_file(img_path)\n",
    "                    img = tf.image.decode_image(img, channels=3)\n",
    "                    \n",
    "                    # Resize the image\n",
    "                    img_resized = tf.image.resize(img, target_size)\n",
    "                    \n",
    "                    # Convert to NumPy array and add to batch\n",
    "                    batch_images.append(np.array(img_resized))\n",
    "                    batch_labels.append(label)\n",
    "                    \n",
    "                except Exception as e:\n",
    "                    print(f\"Error loading image {img_path}: {e}\")\n",
    "            \n",
    "            # Convert batches to arrays and append to main list\n",
    "            resized_images.extend(batch_images)\n",
    "            labels.extend(batch_labels)\n",
    "\n",
<<<<<<< HEAD
    "X, y = load_images_from_folder(\n",
    "#base_dir = r\"C:\\Users\\bejdi\\Desktop\\Micro-Doppler-Based-Target-Classification-\\data\\DIAT-uSAT_dataset\",\n",
=======
    "            # Optionally, save the batch to disk if output_file is provided\n",
    "            if output_file:\n",
    "                np.savez_compressed(output_file, X=np.array(resized_images), y=np.array(labels))\n",
    "    \n",
    "    return np.array(resized_images), np.array(labels)\n",
>>>>>>> origin/main
    "\n",
    "# Define the base directory and subfolders\n",
    "base_dir = r'DIAT-uSAT_dataset'\n",
    "subfolders = [\n",
    "    r\"3_long_blade_rotor\\3_long_blades_rotor\", \n",
    "    r\"3_short_blade_rotor_1\\3_short_blade_rotor_1\", \n",
    "    r\"Bird\\Bird\", \n",
    "    r\"Bird+mini-helicopter_1\\Bird+2_Blade_rotor_1\", \n",
    "    r\"drone_1\\drone_1\", \n",
    "    r\"drone_2\\drone_2\", \n",
    "    r\"RC plane_1\\2_blade_rotor_1\", \n",
    "    r\"RC plane_2\\2_blade_rotor_2\"\n",
    "]\n",
    "\n",
    "# Load and resize images in batches\n",
    "X, y = load_and_resize_images_in_batches(base_dir, subfolders, batch_size=100)\n",
    "\n",
    "print(f\"Loaded {len(X)} images with shape {X.shape}.\")\n",
    "print(f\"Loaded {len(y)} labels.\")"
   ]
  },
  {
   "cell_type": "code",
<<<<<<< HEAD
   "execution_count": null,
   "metadata": {},
   "outputs": [],
   "source": [
    "X = np.array(X)\n",
    "print(X)"
   ]
  },
  {
   "cell_type": "code",
   "execution_count": null,
=======
   "execution_count": 15,
>>>>>>> origin/main
   "metadata": {},
   "outputs": [],
   "source": [
    "import numpy as np\n",
    "import tensorflow as tf\n",
    "\n",
    "def resize_images_in_batches(images, batch_size=100, target_size=(224, 224)):\n",
    "    resized_images = []\n",
    "    \n",
    "    for i in range(0, len(images), batch_size):\n",
    "        batch = images[i:i+batch_size]\n",
    "        \n",
    "        # Resize each image in the batch\n",
    "        batch_resized = [tf.image.resize(img, target_size).numpy().astype(np.float16) for img in batch]\n",
    "        \n",
    "        # Append resized batch to the final list\n",
    "        resized_images.extend(batch_resized)\n",
    "    \n",
    "    return np.array(resized_images)\n",
    "\n",
    "# Process in batches\n",
    "X_resized = resize_images_in_batches(X, batch_size=100)\n"
   ]
  },
  {
   "cell_type": "code",
<<<<<<< HEAD
   "execution_count": null,
=======
   "execution_count": 16,
>>>>>>> origin/main
   "metadata": {},
   "outputs": [],
   "source": [
    "X_train, X_test, y_train, y_test = train_test_split(X_resized, y, test_size=0.2, random_state=42)"
   ]
  },
  {
   "cell_type": "code",
   "execution_count": 17,
   "metadata": {},
   "outputs": [
    {
     "name": "stdout",
     "output_type": "stream",
     "text": [
      "Training set size: (2591, 224, 224, 3), Training labels size: (2591,)\n",
      "Validation set size: (648, 224, 224, 3), Validation labels size: (648,)\n",
      "Testing set size: (810, 224, 224, 3), Testing labels size: (810,)\n"
     ]
    }
   ],
   "source": [
    "X_train, X_val, y_train, y_val = train_test_split(X_train, y_train, test_size=0.2, random_state=42)\n",
    "\n",
    "#size of dataset\n",
    "print(f\"Training set size: {X_train.shape}, Training labels size: {y_train.shape}\")\n",
    "print(f\"Validation set size: {X_val.shape}, Validation labels size: {y_val.shape}\")\n",
    "print(f\"Testing set size: {X_test.shape}, Testing labels size: {y_test.shape}\")"
   ]
  },
  {
   "cell_type": "code",
<<<<<<< HEAD
   "execution_count": null,
=======
   "execution_count": 18,
>>>>>>> origin/main
   "metadata": {},
   "outputs": [],
   "source": [
    "label_encoder = LabelEncoder()\n",
    "y_train_encoded = label_encoder.fit_transform(y_train)\n",
    "y_test_encoded = label_encoder.transform(y_test)\n",
    "y_val_encoded = label_encoder.transform(y_val)"
   ]
  },
  {
   "cell_type": "code",
<<<<<<< HEAD
   "execution_count": null,
=======
   "execution_count": 19,
>>>>>>> origin/main
   "metadata": {},
   "outputs": [],
   "source": [
    "num_classes = len(np.unique(y))\n",
    "y_train_cat = to_categorical(y_train_encoded, num_classes)\n",
    "y_test_cat = to_categorical(y_test_encoded, num_classes)\n",
    "y_val_cat = to_categorical(y_val_encoded, num_classes)"
   ]
  },
  {
   "cell_type": "code",
   "execution_count": null,
   "metadata": {},
   "outputs": [],
   "source": []
  }
 ],
 "metadata": {
  "kernelspec": {
   "display_name": "Python 3 (ipykernel)",
   "language": "python",
   "name": "python3"
  },
  "language_info": {
   "codemirror_mode": {
    "name": "ipython",
    "version": 3
   },
   "file_extension": ".py",
   "mimetype": "text/x-python",
   "name": "python",
   "nbconvert_exporter": "python",
   "pygments_lexer": "ipython3",
   "version": "3.12.4"
  }
 },
 "nbformat": 4,
 "nbformat_minor": 4
}

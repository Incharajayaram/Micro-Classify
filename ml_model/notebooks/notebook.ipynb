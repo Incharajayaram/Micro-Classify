{
 "cells": [
  {
   "cell_type": "code",
   "execution_count": 41,
   "metadata": {},
   "outputs": [],
   "source": [
    "import os\n",
    "import cv2\n",
    "import numpy as np\n",
    "import matplotlib.pyplot as plt\n",
    "from sklearn.model_selection import train_test_split\n",
    "from sklearn.preprocessing import LabelEncoder\n",
    "import tensorflow as tf\n",
    "from tensorflow.keras import layers, models\n",
    "from tensorflow.keras.utils import to_categorical\n",
    "from tensorflow.keras.preprocessing.image import ImageDataGenerator\n",
    "from tensorflow.keras.models import Sequential\n",
    "from tensorflow.keras.layers import Conv2D, BatchNormalization, ReLU, MaxPooling2D, Flatten, Dense, Dropout\n",
    "from tensorflow.keras.optimizers import Adam"
   ]
  },
  {
   "cell_type": "code",
   "execution_count": 31,
   "metadata": {},
   "outputs": [
    {
     "name": "stdout",
     "output_type": "stream",
     "text": [
      "Loading images from: DIAT-uSAT_dataset\\3_long_blade_rotor\n",
      "Loading images from: DIAT-uSAT_dataset\\3_short_blade_rotor\n",
      "Loading images from: DIAT-uSAT_dataset\\Bird\n",
      "Loading images from: DIAT-uSAT_dataset\\Bird+mini-helicopter\n",
      "Loading images from: DIAT-uSAT_dataset\\drone\n",
      "Loading images from: DIAT-uSAT_dataset\\rc_plane\n",
      "Loaded 4049 images with shape (4049, 224, 224, 3).\n",
      "Loaded 4049 labels.\n"
     ]
    }
   ],
   "source": [
    "import numpy as np\n",
    "import tensorflow as tf\n",
    "\n",
    "def load_and_resize_images_in_batches(base_dir, subfolders, batch_size=100, target_size=(224, 224), output_file=None):\n",
    "    # Initialize lists or arrays to hold batches\n",
    "    resized_images = []\n",
    "    labels = []\n",
    "\n",
    "    for subfolder in subfolders:\n",
    "        folder_path = os.path.join(base_dir, subfolder)\n",
    "        print(f\"Loading images from: {folder_path}\")\n",
    "        label = subfolder\n",
    "\n",
    "        image_files = [os.path.join(folder_path, f) for f in os.listdir(folder_path) if f.lower().endswith(('.png', '.jpg', '.jpeg'))]\n",
    "\n",
    "        for i in range(0, len(image_files), batch_size):\n",
    "            batch_files = image_files[i:i+batch_size]\n",
    "            batch_images = []\n",
    "            batch_labels = []\n",
    "            \n",
    "            for img_path in batch_files:\n",
    "                try:\n",
    "                    # Read and decode the image\n",
    "                    img = tf.io.read_file(img_path)\n",
    "                    img = tf.image.decode_image(img, channels=3)\n",
    "                    \n",
    "                    # Resize the image\n",
    "                    img_resized = tf.image.resize(img, target_size)\n",
    "                    \n",
    "                    # Convert to NumPy array and add to batch\n",
    "                    batch_images.append(np.array(img_resized))\n",
    "                    batch_labels.append(label)\n",
    "                    \n",
    "                except Exception as e:\n",
    "                    print(f\"Error loading image {img_path}: {e}\")\n",
    "            \n",
    "            # Convert batches to arrays and append to main list\n",
    "            resized_images.extend(batch_images)\n",
    "            labels.extend(batch_labels)\n",
    "\n",
    "            # Optionally, save the batch to disk if output_file is provided\n",
    "            if output_file:\n",
    "                np.savez_compressed(output_file, X=np.array(resized_images), y=np.array(labels))\n",
    "    \n",
    "    return np.array(resized_images), np.array(labels)\n",
    "\n",
    "# Define the base directory and subfolders\n",
    "base_dir = r'DIAT-uSAT_dataset'\n",
    "subfolders = [\n",
    "    r\"3_long_blade_rotor\", \n",
    "    r\"3_short_blade_rotor\", \n",
    "    r\"Bird\", \n",
    "    r\"Bird+mini-helicopter\", \n",
    "    r\"drone\", \n",
    "    r\"rc_plane\", \n",
    "]\n",
    "\n",
    "# Load and resize images in batches\n",
    "X, y = load_and_resize_images_in_batches(base_dir, subfolders, batch_size=100)\n",
    "\n",
    "print(f\"Loaded {len(X)} images with shape {X.shape}.\")\n",
    "print(f\"Loaded {len(y)} labels.\")"
   ]
  },
  {
   "cell_type": "code",
   "execution_count": 32,
   "metadata": {},
   "outputs": [],
   "source": [
    "import numpy as np\n",
    "import tensorflow as tf\n",
    "\n",
    "def resize_images_in_batches(images, batch_size=100, target_size=(224, 224)):\n",
    "    resized_images = []\n",
    "    \n",
    "    for i in range(0, len(images), batch_size):\n",
    "        batch = images[i:i+batch_size]\n",
    "        \n",
    "        # Resize each image in the batch\n",
    "        batch_resized = [tf.image.resize(img, target_size).numpy().astype(np.float16) for img in batch]\n",
    "        \n",
    "        # Append resized batch to the final list\n",
    "        resized_images.extend(batch_resized)\n",
    "    \n",
    "    return np.array(resized_images)\n",
    "\n",
    "# Process in batches\n",
    "X_resized = resize_images_in_batches(X, batch_size=100)\n"
   ]
  },
  {
   "cell_type": "code",
   "execution_count": 33,
   "metadata": {},
   "outputs": [],
   "source": [
    "# normalization with a rescaling factor of 1/255\n",
    "X_resized = X_resized.astype('float32') / 255.0"
   ]
  },
  {
   "cell_type": "code",
   "execution_count": 38,
   "metadata": {},
   "outputs": [],
   "source": [
    "# encoding labels into a numerical value\n",
    "label_encoder = LabelEncoder()\n",
    "encoded_labels = label_encoder.fit_transform(y)\n",
    "# convert encoded labels into categorical format, where each class is represented by a binary vector\n",
    "num_classes = len(label_encoder.classes_)\n",
    "num_classes\n",
    "categorical_labels = to_categorical(encoded_labels, num_classes)"
   ]
  },
  {
   "cell_type": "code",
   "execution_count": 35,
   "metadata": {},
   "outputs": [],
   "source": [
    "# split the dataset into training and testing sets\n",
    "X_train, X_test, y_train, y_test = train_test_split(X_resized, y, test_size=0.2, random_state=42)"
   ]
  },
  {
   "cell_type": "code",
   "execution_count": 36,
   "metadata": {},
   "outputs": [
    {
     "name": "stdout",
     "output_type": "stream",
     "text": [
      "Training set size: (2429, 224, 224, 3), Training labels size: (2429,)\n",
      "Validation set size: (810, 224, 224, 3), Validation labels size: (810,)\n",
      "Testing set size: (810, 224, 224, 3), Testing labels size: (810,)\n"
     ]
    }
   ],
   "source": [
    "# splitting of training and validation dataset\n",
    "X_train, X_val, y_train, y_val = train_test_split(X_train, y_train, test_size=0.25, random_state=42)\n",
    "\n",
    "#size of dataset\n",
    "print(f\"Training set size: {X_train.shape}, Training labels size: {y_train.shape}\")\n",
    "print(f\"Validation set size: {X_val.shape}, Validation labels size: {y_val.shape}\")\n",
    "print(f\"Testing set size: {X_test.shape}, Testing labels size: {y_test.shape}\")"
   ]
  },
  {
   "cell_type": "code",
   "execution_count": 39,
   "metadata": {},
   "outputs": [],
   "source": [
    "# data augmentation \n",
    "datagen = ImageDataGenerator(\n",
    "    zoom_range = 0.2, # adds pixels\n",
    "    brightness_range = [0.8, 1.2], # increasing intensity\n",
    "    horizontal_flip = True, # random horizontal flipping\n",
    "    fill_mode = 'nearest' # fill newly created pixels\n",
    ")"
   ]
  },
  {
   "cell_type": "code",
   "execution_count": 40,
   "metadata": {},
   "outputs": [],
   "source": [
    "# fit the datagen on training data\n",
    "datagen.fit(X_train)"
   ]
  },
  {
   "cell_type": "code",
   "execution_count": 46,
   "metadata": {},
   "outputs": [],
   "source": [
    "# defining model\n",
    "model = models.Sequential()\n",
    "\n",
    "# image input layer\n",
    "model.add(layers.InputLayer(shape=(224, 224, 3)))\n",
    "\n",
    "# convolutional layer (8 filters, 3x3, 0 padding)\n",
    "model.add(layers.Conv2D(8, (3,3), padding='valid'))\n",
    "\n",
    "# batch normalization layer \n",
    "model.add(layers.BatchNormalization())\n",
    "\n",
    "# relu layer\n",
    "model.add(layers.ReLU())\n",
    "\n",
    "# max pooling layer (2x2, stride of 2)\n",
    "model.add(layers.MaxPooling2D((2,2), strides=2))\n",
    "\n",
    "# convolutional layer (16 filters, 3x3, 0 padding)\n",
    "model.add(layers.Conv2D(16, (3, 3), padding='valid'))\n",
    "\n",
    "# batch normalization layer \n",
    "model.add(layers.BatchNormalization())\n",
    "\n",
    "# ReLU Layer\n",
    "model.add(layers.ReLU())\n",
    "\n",
    "# max pooling layer (2x2, stride of 2)\n",
    "model.add(layers.MaxPooling2D((2,2), strides=2))\n",
    "\n",
    "# convolutional layer (64 filters, 3x3, 0 padding)\n",
    "model.add(layers.Conv2D(64, (3, 3), padding='valid'))\n",
    "\n",
    "# batch normalization layer \n",
    "model.add(layers.BatchNormalization())\n",
    "\n",
    "# ReLU layer\n",
    "model.add(layers.ReLU())\n",
    "\n",
    "# flatten the output before the fully connected layer\n",
    "model.add(layers.Flatten())\n",
    "\n",
    "# fully connected layer (4 neurons)\n",
    "model.add(layers.Dense(4))\n",
    "\n",
    "# softmax layer\n",
    "model.add(layers.Softmax())\n",
    "\n",
    "# compile model\n",
    "model.compile(optimizer=Adam(learning_rate=0.00001),\n",
    "              loss='categorical_crossentropy',\n",
    "              metrics=['accuracy'])"
   ]
  }
 ],
 "metadata": {
  "kernelspec": {
   "display_name": "Python 3",
   "language": "python",
   "name": "python3"
  },
  "language_info": {
   "codemirror_mode": {
    "name": "ipython",
    "version": 3
   },
   "file_extension": ".py",
   "mimetype": "text/x-python",
   "name": "python",
   "nbconvert_exporter": "python",
   "pygments_lexer": "ipython3",
   "version": "3.10.0"
  }
 },
 "nbformat": 4,
 "nbformat_minor": 2
}
